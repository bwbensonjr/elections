{
 "cells": [
  {
   "cell_type": "markdown",
   "metadata": {
    "colab_type": "text",
    "id": "-I7xGjKgF0TB"
   },
   "source": [
    "# Partisan Voter Index (PVI) calculations for Massachusetts Legislative Districts\n",
    "\n",
    "The Partisan Voter Index or PVI was created by the Cook Political Report to create a common metric for comparing the partisanship or Democratic/Republican lean of legislative districts. The Cook Political Report primarily uses the PVI for comparing U.S. House districts, but it can also be used to compare state legislative districts.\n",
    "\n",
    "PVI is calculated by taking the Democratic percentage of the over the last two presidential elections for the area you are considering and then subtracting the average for the U.S. as a whole."
   ]
  },
  {
   "cell_type": "code",
   "execution_count": 1,
   "metadata": {
    "colab": {
     "autoexec": {
      "startup": false,
      "wait_interval": 0
     }
    },
    "colab_type": "code",
    "id": "jXmP_sKHTirR"
   },
   "outputs": [],
   "source": [
    "US_VOTES = {\n",
    "    \"Obama_12\": 65915796,\n",
    "    \"Romney_12\": 60933500,\n",
    "    \"Clinton_16\": 65853516,\n",
    "    \"Trump_16\": 62984824,\n",
    "    }\n",
    "\n",
    "def dem_pct(d, r):\n",
    "    \"\"\"The Democratic percentage of the vote, given Dem and GOP vote totals.\"\"\"\n",
    "    return (d / (d + r))\n",
    "\n",
    "US_DEM_PCT = dem_pct(US_VOTES[\"Obama_12\"] + US_VOTES[\"Clinton_16\"],\n",
    "                     US_VOTES[\"Romney_12\"] + US_VOTES[\"Trump_16\"])\n",
    "\n",
    "def calc_pvi(df):\n",
    "    \"\"\"Numeric PVI given vote totals from last two presidential elections.\"\"\"\n",
    "    dem = df[\"Obama_12\"] + df[\"Clinton_16\"]\n",
    "    gop = df[\"Romney_12\"] + df[\"Trump_16\"]\n",
    "    pvi = (dem_pct(dem, gop) - US_DEM_PCT) * 100\n",
    "    return pvi\n",
    "\n",
    "def pvi_string(pvi):\n",
    "    \"\"\"String representative of numeric PVI value.\"\"\"\n",
    "    if pvi <= -0.5:\n",
    "        s = \"R+{:.0f}\".format(abs(pvi))\n",
    "    elif pvi >= 0.5:\n",
    "        s = \"D+{:.0f}\".format(abs(pvi))\n",
    "    else:\n",
    "        s = \"EVEN\"\n",
    "    return s"
   ]
  },
  {
   "cell_type": "markdown",
   "metadata": {
    "colab_type": "text",
    "id": "_cJ-9X6SKovg"
   },
   "source": [
    "For example, we can calculate the PVI for Massachusetts as a whole using the vote totals from the 2012 and 2016 presidential elections."
   ]
  },
  {
   "cell_type": "code",
   "execution_count": 2,
   "metadata": {
    "colab": {
     "autoexec": {
      "startup": false,
      "wait_interval": 0
     },
     "base_uri": "https://localhost:8080/",
     "height": 34,
     "output_extras": [
      {
       "item_id": 1
      }
     ]
    },
    "colab_type": "code",
    "executionInfo": {
     "elapsed": 233,
     "status": "ok",
     "timestamp": 1517932362914,
     "user": {
      "displayName": "Brent Benson",
      "photoUrl": "//lh3.googleusercontent.com/-Cify9JO-upA/AAAAAAAAAAI/AAAAAAAAEd0/qUc0caQSXvU/s50-c-k-no/photo.jpg",
      "userId": "111294412519576518910"
     },
     "user_tz": 300
    },
    "id": "tI_RtWurKykG",
    "outputId": "af088ba2-0b72-434a-9a43-70199c6c343c"
   },
   "outputs": [
    {
     "data": {
      "text/plain": [
       "11.677772318663537"
      ]
     },
     "execution_count": 2,
     "metadata": {},
     "output_type": "execute_result"
    }
   ],
   "source": [
    "MA_VOTES = {\n",
    "    \"Obama_12\": 1921290,\n",
    "    \"Romney_12\": 1188314,\n",
    "    \"Clinton_16\": 1995196,\n",
    "    \"Trump_16\": 1090893,\n",
    "    }\n",
    "\n",
    "MA_PVI_N = calc_pvi(MA_VOTES)\n",
    "MA_PVI_N"
   ]
  },
  {
   "cell_type": "markdown",
   "metadata": {
    "colab_type": "text",
    "id": "EqceYjkNLARF"
   },
   "source": [
    "So Massachusetts is about 11.7 points more Democratic than the country as a whole using the PVI metric.\n",
    "\n",
    "There is a formatting convention for PVI to round the numeric value to an integer and show negative/GOP-leaning PVI with an \"R+\" and positive/Dem-leaning PVI with a \"D+\"."
   ]
  },
  {
   "cell_type": "code",
   "execution_count": 3,
   "metadata": {
    "colab": {
     "autoexec": {
      "startup": false,
      "wait_interval": 0
     },
     "base_uri": "https://localhost:8080/",
     "height": 34,
     "output_extras": [
      {
       "item_id": 1
      }
     ]
    },
    "colab_type": "code",
    "executionInfo": {
     "elapsed": 230,
     "status": "ok",
     "timestamp": 1517932363286,
     "user": {
      "displayName": "Brent Benson",
      "photoUrl": "//lh3.googleusercontent.com/-Cify9JO-upA/AAAAAAAAAAI/AAAAAAAAEd0/qUc0caQSXvU/s50-c-k-no/photo.jpg",
      "userId": "111294412519576518910"
     },
     "user_tz": 300
    },
    "id": "YWjMhLJPLZVI",
    "outputId": "1ff00093-0d41-4496-8bee-905194cc5063"
   },
   "outputs": [
    {
     "data": {
      "text/plain": [
       "'D+12'"
      ]
     },
     "execution_count": 3,
     "metadata": {},
     "output_type": "execute_result"
    }
   ],
   "source": [
    "MA_PVI = pvi_string(MA_PVI_N)\n",
    "MA_PVI"
   ]
  },
  {
   "cell_type": "markdown",
   "metadata": {
    "colab_type": "text",
    "id": "Lwl4u2rFLgtV"
   },
   "source": [
    "## Precinct-level presidential results\n",
    "\n",
    "In order to calculate PVI across various legislative districts in Massachusetts, we will start by downloading the precinct-level presidential election data for 2012 and 2016 from the awesome [electionstats.state.ma.us](http://electionstats.state.ma.us) website created by Adam Friedman and supported by the Massachusetts Secretary of the Commonwealth.\n",
    "\n",
    "Once we have the precinct-level data, we can map the precincts to legislative districts and then do the PVI calculations."
   ]
  },
  {
   "cell_type": "code",
   "execution_count": 4,
   "metadata": {
    "colab": {
     "autoexec": {
      "startup": false,
      "wait_interval": 0
     },
     "base_uri": "https://localhost:8080/",
     "height": 700,
     "output_extras": [
      {
       "item_id": 1
      }
     ]
    },
    "colab_type": "code",
    "executionInfo": {
     "elapsed": 330,
     "status": "ok",
     "timestamp": 1517932363724,
     "user": {
      "displayName": "Brent Benson",
      "photoUrl": "//lh3.googleusercontent.com/-Cify9JO-upA/AAAAAAAAAAI/AAAAAAAAEd0/qUc0caQSXvU/s50-c-k-no/photo.jpg",
      "userId": "111294412519576518910"
     },
     "user_tz": 300
    },
    "id": "GouB5Q0wBrFQ",
    "outputId": "fda60920-763d-4924-b82f-260bf0c24181"
   },
   "outputs": [
    {
     "data": {
      "text/html": [
       "<div>\n",
       "<style scoped>\n",
       "    .dataframe tbody tr th:only-of-type {\n",
       "        vertical-align: middle;\n",
       "    }\n",
       "\n",
       "    .dataframe tbody tr th {\n",
       "        vertical-align: top;\n",
       "    }\n",
       "\n",
       "    .dataframe thead th {\n",
       "        text-align: right;\n",
       "    }\n",
       "</style>\n",
       "<table border=\"1\" class=\"dataframe\">\n",
       "  <thead>\n",
       "    <tr style=\"text-align: right;\">\n",
       "      <th></th>\n",
       "      <th></th>\n",
       "      <th></th>\n",
       "      <th>Obama/ Biden</th>\n",
       "      <th>Romney/ Ryan</th>\n",
       "      <th>Johnson/ Gray</th>\n",
       "      <th>Stein/ Honkala</th>\n",
       "      <th>All Others</th>\n",
       "      <th>No Preference</th>\n",
       "      <th>Blanks</th>\n",
       "      <th>Total Votes Cast</th>\n",
       "    </tr>\n",
       "    <tr>\n",
       "      <th>City/Town</th>\n",
       "      <th>Ward</th>\n",
       "      <th>Pct</th>\n",
       "      <th></th>\n",
       "      <th></th>\n",
       "      <th></th>\n",
       "      <th></th>\n",
       "      <th></th>\n",
       "      <th></th>\n",
       "      <th></th>\n",
       "      <th></th>\n",
       "    </tr>\n",
       "  </thead>\n",
       "  <tbody>\n",
       "    <tr>\n",
       "      <th rowspan=\"5\" valign=\"top\">Abington</th>\n",
       "      <th rowspan=\"5\" valign=\"top\">-</th>\n",
       "      <th>1</th>\n",
       "      <td>844</td>\n",
       "      <td>705</td>\n",
       "      <td>6</td>\n",
       "      <td>7</td>\n",
       "      <td>4</td>\n",
       "      <td>0</td>\n",
       "      <td>5</td>\n",
       "      <td>1571</td>\n",
       "    </tr>\n",
       "    <tr>\n",
       "      <th>2</th>\n",
       "      <td>742</td>\n",
       "      <td>741</td>\n",
       "      <td>18</td>\n",
       "      <td>8</td>\n",
       "      <td>4</td>\n",
       "      <td>0</td>\n",
       "      <td>7</td>\n",
       "      <td>1520</td>\n",
       "    </tr>\n",
       "    <tr>\n",
       "      <th>3</th>\n",
       "      <td>815</td>\n",
       "      <td>801</td>\n",
       "      <td>13</td>\n",
       "      <td>11</td>\n",
       "      <td>2</td>\n",
       "      <td>0</td>\n",
       "      <td>6</td>\n",
       "      <td>1648</td>\n",
       "    </tr>\n",
       "    <tr>\n",
       "      <th>4</th>\n",
       "      <td>899</td>\n",
       "      <td>904</td>\n",
       "      <td>8</td>\n",
       "      <td>9</td>\n",
       "      <td>5</td>\n",
       "      <td>0</td>\n",
       "      <td>5</td>\n",
       "      <td>1830</td>\n",
       "    </tr>\n",
       "    <tr>\n",
       "      <th>5</th>\n",
       "      <td>844</td>\n",
       "      <td>910</td>\n",
       "      <td>8</td>\n",
       "      <td>2</td>\n",
       "      <td>5</td>\n",
       "      <td>0</td>\n",
       "      <td>5</td>\n",
       "      <td>1774</td>\n",
       "    </tr>\n",
       "    <tr>\n",
       "      <th rowspan=\"6\" valign=\"top\">Acton</th>\n",
       "      <th rowspan=\"6\" valign=\"top\">-</th>\n",
       "      <th>1</th>\n",
       "      <td>1228</td>\n",
       "      <td>583</td>\n",
       "      <td>18</td>\n",
       "      <td>5</td>\n",
       "      <td>3</td>\n",
       "      <td>0</td>\n",
       "      <td>8</td>\n",
       "      <td>1845</td>\n",
       "    </tr>\n",
       "    <tr>\n",
       "      <th>2</th>\n",
       "      <td>1216</td>\n",
       "      <td>722</td>\n",
       "      <td>19</td>\n",
       "      <td>14</td>\n",
       "      <td>3</td>\n",
       "      <td>0</td>\n",
       "      <td>4</td>\n",
       "      <td>1978</td>\n",
       "    </tr>\n",
       "    <tr>\n",
       "      <th>3</th>\n",
       "      <td>1378</td>\n",
       "      <td>699</td>\n",
       "      <td>34</td>\n",
       "      <td>24</td>\n",
       "      <td>0</td>\n",
       "      <td>0</td>\n",
       "      <td>8</td>\n",
       "      <td>2143</td>\n",
       "    </tr>\n",
       "    <tr>\n",
       "      <th>4</th>\n",
       "      <td>1462</td>\n",
       "      <td>636</td>\n",
       "      <td>25</td>\n",
       "      <td>20</td>\n",
       "      <td>0</td>\n",
       "      <td>0</td>\n",
       "      <td>6</td>\n",
       "      <td>2149</td>\n",
       "    </tr>\n",
       "    <tr>\n",
       "      <th>5</th>\n",
       "      <td>1454</td>\n",
       "      <td>565</td>\n",
       "      <td>25</td>\n",
       "      <td>11</td>\n",
       "      <td>8</td>\n",
       "      <td>0</td>\n",
       "      <td>8</td>\n",
       "      <td>2071</td>\n",
       "    </tr>\n",
       "    <tr>\n",
       "      <th>6</th>\n",
       "      <td>1134</td>\n",
       "      <td>670</td>\n",
       "      <td>15</td>\n",
       "      <td>9</td>\n",
       "      <td>3</td>\n",
       "      <td>0</td>\n",
       "      <td>5</td>\n",
       "      <td>1836</td>\n",
       "    </tr>\n",
       "    <tr>\n",
       "      <th rowspan=\"3\" valign=\"top\">Acushnet</th>\n",
       "      <th rowspan=\"3\" valign=\"top\">-</th>\n",
       "      <th>1</th>\n",
       "      <td>1034</td>\n",
       "      <td>574</td>\n",
       "      <td>17</td>\n",
       "      <td>8</td>\n",
       "      <td>13</td>\n",
       "      <td>0</td>\n",
       "      <td>23</td>\n",
       "      <td>1669</td>\n",
       "    </tr>\n",
       "    <tr>\n",
       "      <th>2</th>\n",
       "      <td>959</td>\n",
       "      <td>803</td>\n",
       "      <td>25</td>\n",
       "      <td>11</td>\n",
       "      <td>4</td>\n",
       "      <td>0</td>\n",
       "      <td>19</td>\n",
       "      <td>1821</td>\n",
       "    </tr>\n",
       "    <tr>\n",
       "      <th>3</th>\n",
       "      <td>1053</td>\n",
       "      <td>819</td>\n",
       "      <td>17</td>\n",
       "      <td>7</td>\n",
       "      <td>1</td>\n",
       "      <td>0</td>\n",
       "      <td>11</td>\n",
       "      <td>1908</td>\n",
       "    </tr>\n",
       "    <tr>\n",
       "      <th rowspan=\"5\" valign=\"top\">Adams</th>\n",
       "      <th rowspan=\"5\" valign=\"top\">-</th>\n",
       "      <th>1</th>\n",
       "      <td>525</td>\n",
       "      <td>164</td>\n",
       "      <td>17</td>\n",
       "      <td>1</td>\n",
       "      <td>0</td>\n",
       "      <td>0</td>\n",
       "      <td>1</td>\n",
       "      <td>708</td>\n",
       "    </tr>\n",
       "    <tr>\n",
       "      <th>2</th>\n",
       "      <td>607</td>\n",
       "      <td>172</td>\n",
       "      <td>9</td>\n",
       "      <td>6</td>\n",
       "      <td>2</td>\n",
       "      <td>0</td>\n",
       "      <td>5</td>\n",
       "      <td>801</td>\n",
       "    </tr>\n",
       "    <tr>\n",
       "      <th>3</th>\n",
       "      <td>582</td>\n",
       "      <td>169</td>\n",
       "      <td>10</td>\n",
       "      <td>3</td>\n",
       "      <td>2</td>\n",
       "      <td>0</td>\n",
       "      <td>2</td>\n",
       "      <td>768</td>\n",
       "    </tr>\n",
       "    <tr>\n",
       "      <th>4</th>\n",
       "      <td>590</td>\n",
       "      <td>129</td>\n",
       "      <td>9</td>\n",
       "      <td>6</td>\n",
       "      <td>3</td>\n",
       "      <td>0</td>\n",
       "      <td>3</td>\n",
       "      <td>740</td>\n",
       "    </tr>\n",
       "    <tr>\n",
       "      <th>5</th>\n",
       "      <td>709</td>\n",
       "      <td>185</td>\n",
       "      <td>8</td>\n",
       "      <td>9</td>\n",
       "      <td>2</td>\n",
       "      <td>0</td>\n",
       "      <td>1</td>\n",
       "      <td>914</td>\n",
       "    </tr>\n",
       "    <tr>\n",
       "      <th>Agawam</th>\n",
       "      <th>-</th>\n",
       "      <th>1</th>\n",
       "      <td>850</td>\n",
       "      <td>665</td>\n",
       "      <td>13</td>\n",
       "      <td>7</td>\n",
       "      <td>6</td>\n",
       "      <td>0</td>\n",
       "      <td>5</td>\n",
       "      <td>1546</td>\n",
       "    </tr>\n",
       "  </tbody>\n",
       "</table>\n",
       "</div>"
      ],
      "text/plain": [
       "                    Obama/ Biden  Romney/ Ryan  Johnson/ Gray  Stein/ Honkala  \\\n",
       "City/Town Ward Pct                                                              \n",
       "Abington  -    1             844           705              6               7   \n",
       "               2             742           741             18               8   \n",
       "               3             815           801             13              11   \n",
       "               4             899           904              8               9   \n",
       "               5             844           910              8               2   \n",
       "Acton     -    1            1228           583             18               5   \n",
       "               2            1216           722             19              14   \n",
       "               3            1378           699             34              24   \n",
       "               4            1462           636             25              20   \n",
       "               5            1454           565             25              11   \n",
       "               6            1134           670             15               9   \n",
       "Acushnet  -    1            1034           574             17               8   \n",
       "               2             959           803             25              11   \n",
       "               3            1053           819             17               7   \n",
       "Adams     -    1             525           164             17               1   \n",
       "               2             607           172              9               6   \n",
       "               3             582           169             10               3   \n",
       "               4             590           129              9               6   \n",
       "               5             709           185              8               9   \n",
       "Agawam    -    1             850           665             13               7   \n",
       "\n",
       "                    All Others  No Preference  Blanks  Total Votes Cast  \n",
       "City/Town Ward Pct                                                       \n",
       "Abington  -    1             4              0       5              1571  \n",
       "               2             4              0       7              1520  \n",
       "               3             2              0       6              1648  \n",
       "               4             5              0       5              1830  \n",
       "               5             5              0       5              1774  \n",
       "Acton     -    1             3              0       8              1845  \n",
       "               2             3              0       4              1978  \n",
       "               3             0              0       8              2143  \n",
       "               4             0              0       6              2149  \n",
       "               5             8              0       8              2071  \n",
       "               6             3              0       5              1836  \n",
       "Acushnet  -    1            13              0      23              1669  \n",
       "               2             4              0      19              1821  \n",
       "               3             1              0      11              1908  \n",
       "Adams     -    1             0              0       1               708  \n",
       "               2             2              0       5               801  \n",
       "               3             2              0       2               768  \n",
       "               4             3              0       3               740  \n",
       "               5             2              0       1               914  \n",
       "Agawam    -    1             6              0       5              1546  "
      ]
     },
     "execution_count": 4,
     "metadata": {},
     "output_type": "execute_result"
    }
   ],
   "source": [
    "import pandas as pd\n",
    "pd.set_option(\"display.max_rows\", 500)\n",
    "\n",
    "def read_pd43(url, set_index=True):\n",
    "    \"\"\"Read a precinct-level CSV file from PD43 site.\"\"\"\n",
    "    # Force Ward and Pct to string for consistency.\n",
    "    p = pd.read_csv(url, dtype={\"Ward\": str, \"Pct\": str}, thousands=\",\", skiprows=[1])\n",
    "    # Remove TOTALS row\n",
    "    p = p[p[\"City/Town\"] != \"TOTALS\"]\n",
    "    # Optionally set the index to three precinct-identifying columns\n",
    "    if set_index:\n",
    "        p = p.set_index([\"City/Town\", \"Ward\", \"Pct\"])\n",
    "    return p\n",
    "\n",
    "p12 = read_pd43(\"http://electionstats.state.ma.us/elections/download/22515/precincts_include:1/\")\n",
    "p12.head(20)"
   ]
  },
  {
   "cell_type": "markdown",
   "metadata": {
    "colab_type": "text",
    "id": "TCM_Q2MbUjaf"
   },
   "source": [
    "We are only interested in the Democratic and Republican vote totals."
   ]
  },
  {
   "cell_type": "code",
   "execution_count": 5,
   "metadata": {
    "colab": {
     "autoexec": {
      "startup": false,
      "wait_interval": 0
     },
     "base_uri": "https://localhost:8080/",
     "height": 700,
     "output_extras": [
      {
       "item_id": 1
      }
     ]
    },
    "colab_type": "code",
    "executionInfo": {
     "elapsed": 421,
     "status": "ok",
     "timestamp": 1517932364262,
     "user": {
      "displayName": "Brent Benson",
      "photoUrl": "//lh3.googleusercontent.com/-Cify9JO-upA/AAAAAAAAAAI/AAAAAAAAEd0/qUc0caQSXvU/s50-c-k-no/photo.jpg",
      "userId": "111294412519576518910"
     },
     "user_tz": 300
    },
    "id": "LUU2xqRpIFVB",
    "outputId": "80346e1c-d3eb-4de6-9c3d-39fa1b9ca98e"
   },
   "outputs": [
    {
     "data": {
      "text/html": [
       "<div>\n",
       "<style scoped>\n",
       "    .dataframe tbody tr th:only-of-type {\n",
       "        vertical-align: middle;\n",
       "    }\n",
       "\n",
       "    .dataframe tbody tr th {\n",
       "        vertical-align: top;\n",
       "    }\n",
       "\n",
       "    .dataframe thead th {\n",
       "        text-align: right;\n",
       "    }\n",
       "</style>\n",
       "<table border=\"1\" class=\"dataframe\">\n",
       "  <thead>\n",
       "    <tr style=\"text-align: right;\">\n",
       "      <th></th>\n",
       "      <th></th>\n",
       "      <th></th>\n",
       "      <th>Obama_12</th>\n",
       "      <th>Romney_12</th>\n",
       "    </tr>\n",
       "    <tr>\n",
       "      <th>City/Town</th>\n",
       "      <th>Ward</th>\n",
       "      <th>Pct</th>\n",
       "      <th></th>\n",
       "      <th></th>\n",
       "    </tr>\n",
       "  </thead>\n",
       "  <tbody>\n",
       "    <tr>\n",
       "      <th rowspan=\"5\" valign=\"top\">Abington</th>\n",
       "      <th rowspan=\"5\" valign=\"top\">-</th>\n",
       "      <th>1</th>\n",
       "      <td>844</td>\n",
       "      <td>705</td>\n",
       "    </tr>\n",
       "    <tr>\n",
       "      <th>2</th>\n",
       "      <td>742</td>\n",
       "      <td>741</td>\n",
       "    </tr>\n",
       "    <tr>\n",
       "      <th>3</th>\n",
       "      <td>815</td>\n",
       "      <td>801</td>\n",
       "    </tr>\n",
       "    <tr>\n",
       "      <th>4</th>\n",
       "      <td>899</td>\n",
       "      <td>904</td>\n",
       "    </tr>\n",
       "    <tr>\n",
       "      <th>5</th>\n",
       "      <td>844</td>\n",
       "      <td>910</td>\n",
       "    </tr>\n",
       "    <tr>\n",
       "      <th rowspan=\"6\" valign=\"top\">Acton</th>\n",
       "      <th rowspan=\"6\" valign=\"top\">-</th>\n",
       "      <th>1</th>\n",
       "      <td>1228</td>\n",
       "      <td>583</td>\n",
       "    </tr>\n",
       "    <tr>\n",
       "      <th>2</th>\n",
       "      <td>1216</td>\n",
       "      <td>722</td>\n",
       "    </tr>\n",
       "    <tr>\n",
       "      <th>3</th>\n",
       "      <td>1378</td>\n",
       "      <td>699</td>\n",
       "    </tr>\n",
       "    <tr>\n",
       "      <th>4</th>\n",
       "      <td>1462</td>\n",
       "      <td>636</td>\n",
       "    </tr>\n",
       "    <tr>\n",
       "      <th>5</th>\n",
       "      <td>1454</td>\n",
       "      <td>565</td>\n",
       "    </tr>\n",
       "    <tr>\n",
       "      <th>6</th>\n",
       "      <td>1134</td>\n",
       "      <td>670</td>\n",
       "    </tr>\n",
       "    <tr>\n",
       "      <th rowspan=\"3\" valign=\"top\">Acushnet</th>\n",
       "      <th rowspan=\"3\" valign=\"top\">-</th>\n",
       "      <th>1</th>\n",
       "      <td>1034</td>\n",
       "      <td>574</td>\n",
       "    </tr>\n",
       "    <tr>\n",
       "      <th>2</th>\n",
       "      <td>959</td>\n",
       "      <td>803</td>\n",
       "    </tr>\n",
       "    <tr>\n",
       "      <th>3</th>\n",
       "      <td>1053</td>\n",
       "      <td>819</td>\n",
       "    </tr>\n",
       "    <tr>\n",
       "      <th rowspan=\"5\" valign=\"top\">Adams</th>\n",
       "      <th rowspan=\"5\" valign=\"top\">-</th>\n",
       "      <th>1</th>\n",
       "      <td>525</td>\n",
       "      <td>164</td>\n",
       "    </tr>\n",
       "    <tr>\n",
       "      <th>2</th>\n",
       "      <td>607</td>\n",
       "      <td>172</td>\n",
       "    </tr>\n",
       "    <tr>\n",
       "      <th>3</th>\n",
       "      <td>582</td>\n",
       "      <td>169</td>\n",
       "    </tr>\n",
       "    <tr>\n",
       "      <th>4</th>\n",
       "      <td>590</td>\n",
       "      <td>129</td>\n",
       "    </tr>\n",
       "    <tr>\n",
       "      <th>5</th>\n",
       "      <td>709</td>\n",
       "      <td>185</td>\n",
       "    </tr>\n",
       "    <tr>\n",
       "      <th>Agawam</th>\n",
       "      <th>-</th>\n",
       "      <th>1</th>\n",
       "      <td>850</td>\n",
       "      <td>665</td>\n",
       "    </tr>\n",
       "  </tbody>\n",
       "</table>\n",
       "</div>"
      ],
      "text/plain": [
       "                    Obama_12  Romney_12\n",
       "City/Town Ward Pct                     \n",
       "Abington  -    1         844        705\n",
       "               2         742        741\n",
       "               3         815        801\n",
       "               4         899        904\n",
       "               5         844        910\n",
       "Acton     -    1        1228        583\n",
       "               2        1216        722\n",
       "               3        1378        699\n",
       "               4        1462        636\n",
       "               5        1454        565\n",
       "               6        1134        670\n",
       "Acushnet  -    1        1034        574\n",
       "               2         959        803\n",
       "               3        1053        819\n",
       "Adams     -    1         525        164\n",
       "               2         607        172\n",
       "               3         582        169\n",
       "               4         590        129\n",
       "               5         709        185\n",
       "Agawam    -    1         850        665"
      ]
     },
     "execution_count": 5,
     "metadata": {},
     "output_type": "execute_result"
    }
   ],
   "source": [
    "p12 = p12.rename(columns={\"Obama/ Biden\": \"Obama_12\", \"Romney/ Ryan\": \"Romney_12\"})\n",
    "p12 = p12[[\"Obama_12\", \"Romney_12\"]]\n",
    "p12.head(20)"
   ]
  },
  {
   "cell_type": "markdown",
   "metadata": {
    "colab_type": "text",
    "id": "z8GKMOmPUtm9"
   },
   "source": [
    "Repeat the same process for 2016 presidential result data."
   ]
  },
  {
   "cell_type": "code",
   "execution_count": 6,
   "metadata": {
    "colab": {
     "autoexec": {
      "startup": false,
      "wait_interval": 0
     },
     "base_uri": "https://localhost:8080/",
     "height": 700,
     "output_extras": [
      {
       "item_id": 1
      }
     ]
    },
    "colab_type": "code",
    "executionInfo": {
     "elapsed": 465,
     "status": "ok",
     "timestamp": 1517932364820,
     "user": {
      "displayName": "Brent Benson",
      "photoUrl": "//lh3.googleusercontent.com/-Cify9JO-upA/AAAAAAAAAAI/AAAAAAAAEd0/qUc0caQSXvU/s50-c-k-no/photo.jpg",
      "userId": "111294412519576518910"
     },
     "user_tz": 300
    },
    "id": "ONzkyMcXLb88",
    "outputId": "79645077-6738-49b9-fe75-0c3746c682a3"
   },
   "outputs": [
    {
     "data": {
      "text/html": [
       "<div>\n",
       "<style scoped>\n",
       "    .dataframe tbody tr th:only-of-type {\n",
       "        vertical-align: middle;\n",
       "    }\n",
       "\n",
       "    .dataframe tbody tr th {\n",
       "        vertical-align: top;\n",
       "    }\n",
       "\n",
       "    .dataframe thead th {\n",
       "        text-align: right;\n",
       "    }\n",
       "</style>\n",
       "<table border=\"1\" class=\"dataframe\">\n",
       "  <thead>\n",
       "    <tr style=\"text-align: right;\">\n",
       "      <th></th>\n",
       "      <th></th>\n",
       "      <th></th>\n",
       "      <th>Clinton_16</th>\n",
       "      <th>Trump_16</th>\n",
       "    </tr>\n",
       "    <tr>\n",
       "      <th>City/Town</th>\n",
       "      <th>Ward</th>\n",
       "      <th>Pct</th>\n",
       "      <th></th>\n",
       "      <th></th>\n",
       "    </tr>\n",
       "  </thead>\n",
       "  <tbody>\n",
       "    <tr>\n",
       "      <th rowspan=\"5\" valign=\"top\">Abington</th>\n",
       "      <th rowspan=\"5\" valign=\"top\">-</th>\n",
       "      <th>1</th>\n",
       "      <td>818</td>\n",
       "      <td>717</td>\n",
       "    </tr>\n",
       "    <tr>\n",
       "      <th>2</th>\n",
       "      <td>739</td>\n",
       "      <td>785</td>\n",
       "    </tr>\n",
       "    <tr>\n",
       "      <th>3</th>\n",
       "      <td>773</td>\n",
       "      <td>808</td>\n",
       "    </tr>\n",
       "    <tr>\n",
       "      <th>4</th>\n",
       "      <td>877</td>\n",
       "      <td>878</td>\n",
       "    </tr>\n",
       "    <tr>\n",
       "      <th>5</th>\n",
       "      <td>908</td>\n",
       "      <td>829</td>\n",
       "    </tr>\n",
       "    <tr>\n",
       "      <th rowspan=\"6\" valign=\"top\">Acton</th>\n",
       "      <th rowspan=\"6\" valign=\"top\">-</th>\n",
       "      <th>1</th>\n",
       "      <td>1459</td>\n",
       "      <td>438</td>\n",
       "    </tr>\n",
       "    <tr>\n",
       "      <th>2</th>\n",
       "      <td>1550</td>\n",
       "      <td>480</td>\n",
       "    </tr>\n",
       "    <tr>\n",
       "      <th>3</th>\n",
       "      <td>1580</td>\n",
       "      <td>435</td>\n",
       "    </tr>\n",
       "    <tr>\n",
       "      <th>4</th>\n",
       "      <td>1675</td>\n",
       "      <td>414</td>\n",
       "    </tr>\n",
       "    <tr>\n",
       "      <th>5</th>\n",
       "      <td>1580</td>\n",
       "      <td>387</td>\n",
       "    </tr>\n",
       "    <tr>\n",
       "      <th>6</th>\n",
       "      <td>1354</td>\n",
       "      <td>401</td>\n",
       "    </tr>\n",
       "    <tr>\n",
       "      <th rowspan=\"3\" valign=\"top\">Acushnet</th>\n",
       "      <th rowspan=\"3\" valign=\"top\">-</th>\n",
       "      <th>1</th>\n",
       "      <td>783</td>\n",
       "      <td>786</td>\n",
       "    </tr>\n",
       "    <tr>\n",
       "      <th>2</th>\n",
       "      <td>756</td>\n",
       "      <td>1043</td>\n",
       "    </tr>\n",
       "    <tr>\n",
       "      <th>3</th>\n",
       "      <td>862</td>\n",
       "      <td>1005</td>\n",
       "    </tr>\n",
       "    <tr>\n",
       "      <th rowspan=\"5\" valign=\"top\">Adams</th>\n",
       "      <th rowspan=\"5\" valign=\"top\">-</th>\n",
       "      <th>1</th>\n",
       "      <td>439</td>\n",
       "      <td>255</td>\n",
       "    </tr>\n",
       "    <tr>\n",
       "      <th>2</th>\n",
       "      <td>476</td>\n",
       "      <td>270</td>\n",
       "    </tr>\n",
       "    <tr>\n",
       "      <th>3</th>\n",
       "      <td>475</td>\n",
       "      <td>268</td>\n",
       "    </tr>\n",
       "    <tr>\n",
       "      <th>4</th>\n",
       "      <td>446</td>\n",
       "      <td>233</td>\n",
       "    </tr>\n",
       "    <tr>\n",
       "      <th>5</th>\n",
       "      <td>577</td>\n",
       "      <td>259</td>\n",
       "    </tr>\n",
       "    <tr>\n",
       "      <th>Agawam</th>\n",
       "      <th>-</th>\n",
       "      <th>1</th>\n",
       "      <td>631</td>\n",
       "      <td>827</td>\n",
       "    </tr>\n",
       "  </tbody>\n",
       "</table>\n",
       "</div>"
      ],
      "text/plain": [
       "                    Clinton_16  Trump_16\n",
       "City/Town Ward Pct                      \n",
       "Abington  -    1           818       717\n",
       "               2           739       785\n",
       "               3           773       808\n",
       "               4           877       878\n",
       "               5           908       829\n",
       "Acton     -    1          1459       438\n",
       "               2          1550       480\n",
       "               3          1580       435\n",
       "               4          1675       414\n",
       "               5          1580       387\n",
       "               6          1354       401\n",
       "Acushnet  -    1           783       786\n",
       "               2           756      1043\n",
       "               3           862      1005\n",
       "Adams     -    1           439       255\n",
       "               2           476       270\n",
       "               3           475       268\n",
       "               4           446       233\n",
       "               5           577       259\n",
       "Agawam    -    1           631       827"
      ]
     },
     "execution_count": 6,
     "metadata": {},
     "output_type": "execute_result"
    }
   ],
   "source": [
    "p16 = read_pd43(\"http://electionstats.state.ma.us/elections/download/40060/precincts_include:1/\")\n",
    "p16 = p16.rename(columns={\"Clinton/ Kaine\": \"Clinton_16\", \"Trump/ Pence\": \"Trump_16\"})\n",
    "p16 = p16[[\"Clinton_16\", \"Trump_16\"]]\n",
    "p16.head(20)"
   ]
  },
  {
   "cell_type": "markdown",
   "metadata": {
    "colab_type": "text",
    "id": "Cb7fKdN9U0kW"
   },
   "source": [
    "Now we combine the 2012 and 2016 data together."
   ]
  },
  {
   "cell_type": "code",
   "execution_count": 7,
   "metadata": {
    "colab": {
     "autoexec": {
      "startup": false,
      "wait_interval": 0
     },
     "base_uri": "https://localhost:8080/",
     "height": 700,
     "output_extras": [
      {
       "item_id": 1
      }
     ]
    },
    "colab_type": "code",
    "executionInfo": {
     "elapsed": 233,
     "status": "ok",
     "timestamp": 1517932365073,
     "user": {
      "displayName": "Brent Benson",
      "photoUrl": "//lh3.googleusercontent.com/-Cify9JO-upA/AAAAAAAAAAI/AAAAAAAAEd0/qUc0caQSXvU/s50-c-k-no/photo.jpg",
      "userId": "111294412519576518910"
     },
     "user_tz": 300
    },
    "id": "cq0fyg8tLp9m",
    "outputId": "db9b1413-b243-4f9c-9998-e310492f21a3"
   },
   "outputs": [
    {
     "data": {
      "text/html": [
       "<div>\n",
       "<style scoped>\n",
       "    .dataframe tbody tr th:only-of-type {\n",
       "        vertical-align: middle;\n",
       "    }\n",
       "\n",
       "    .dataframe tbody tr th {\n",
       "        vertical-align: top;\n",
       "    }\n",
       "\n",
       "    .dataframe thead th {\n",
       "        text-align: right;\n",
       "    }\n",
       "</style>\n",
       "<table border=\"1\" class=\"dataframe\">\n",
       "  <thead>\n",
       "    <tr style=\"text-align: right;\">\n",
       "      <th></th>\n",
       "      <th></th>\n",
       "      <th></th>\n",
       "      <th>Obama_12</th>\n",
       "      <th>Romney_12</th>\n",
       "      <th>Clinton_16</th>\n",
       "      <th>Trump_16</th>\n",
       "    </tr>\n",
       "    <tr>\n",
       "      <th>City/Town</th>\n",
       "      <th>Ward</th>\n",
       "      <th>Pct</th>\n",
       "      <th></th>\n",
       "      <th></th>\n",
       "      <th></th>\n",
       "      <th></th>\n",
       "    </tr>\n",
       "  </thead>\n",
       "  <tbody>\n",
       "    <tr>\n",
       "      <th rowspan=\"5\" valign=\"top\">Abington</th>\n",
       "      <th rowspan=\"5\" valign=\"top\">-</th>\n",
       "      <th>1</th>\n",
       "      <td>844</td>\n",
       "      <td>705</td>\n",
       "      <td>818</td>\n",
       "      <td>717</td>\n",
       "    </tr>\n",
       "    <tr>\n",
       "      <th>2</th>\n",
       "      <td>742</td>\n",
       "      <td>741</td>\n",
       "      <td>739</td>\n",
       "      <td>785</td>\n",
       "    </tr>\n",
       "    <tr>\n",
       "      <th>3</th>\n",
       "      <td>815</td>\n",
       "      <td>801</td>\n",
       "      <td>773</td>\n",
       "      <td>808</td>\n",
       "    </tr>\n",
       "    <tr>\n",
       "      <th>4</th>\n",
       "      <td>899</td>\n",
       "      <td>904</td>\n",
       "      <td>877</td>\n",
       "      <td>878</td>\n",
       "    </tr>\n",
       "    <tr>\n",
       "      <th>5</th>\n",
       "      <td>844</td>\n",
       "      <td>910</td>\n",
       "      <td>908</td>\n",
       "      <td>829</td>\n",
       "    </tr>\n",
       "    <tr>\n",
       "      <th rowspan=\"6\" valign=\"top\">Acton</th>\n",
       "      <th rowspan=\"6\" valign=\"top\">-</th>\n",
       "      <th>1</th>\n",
       "      <td>1228</td>\n",
       "      <td>583</td>\n",
       "      <td>1459</td>\n",
       "      <td>438</td>\n",
       "    </tr>\n",
       "    <tr>\n",
       "      <th>2</th>\n",
       "      <td>1216</td>\n",
       "      <td>722</td>\n",
       "      <td>1550</td>\n",
       "      <td>480</td>\n",
       "    </tr>\n",
       "    <tr>\n",
       "      <th>3</th>\n",
       "      <td>1378</td>\n",
       "      <td>699</td>\n",
       "      <td>1580</td>\n",
       "      <td>435</td>\n",
       "    </tr>\n",
       "    <tr>\n",
       "      <th>4</th>\n",
       "      <td>1462</td>\n",
       "      <td>636</td>\n",
       "      <td>1675</td>\n",
       "      <td>414</td>\n",
       "    </tr>\n",
       "    <tr>\n",
       "      <th>5</th>\n",
       "      <td>1454</td>\n",
       "      <td>565</td>\n",
       "      <td>1580</td>\n",
       "      <td>387</td>\n",
       "    </tr>\n",
       "    <tr>\n",
       "      <th>6</th>\n",
       "      <td>1134</td>\n",
       "      <td>670</td>\n",
       "      <td>1354</td>\n",
       "      <td>401</td>\n",
       "    </tr>\n",
       "    <tr>\n",
       "      <th rowspan=\"3\" valign=\"top\">Acushnet</th>\n",
       "      <th rowspan=\"3\" valign=\"top\">-</th>\n",
       "      <th>1</th>\n",
       "      <td>1034</td>\n",
       "      <td>574</td>\n",
       "      <td>783</td>\n",
       "      <td>786</td>\n",
       "    </tr>\n",
       "    <tr>\n",
       "      <th>2</th>\n",
       "      <td>959</td>\n",
       "      <td>803</td>\n",
       "      <td>756</td>\n",
       "      <td>1043</td>\n",
       "    </tr>\n",
       "    <tr>\n",
       "      <th>3</th>\n",
       "      <td>1053</td>\n",
       "      <td>819</td>\n",
       "      <td>862</td>\n",
       "      <td>1005</td>\n",
       "    </tr>\n",
       "    <tr>\n",
       "      <th rowspan=\"5\" valign=\"top\">Adams</th>\n",
       "      <th rowspan=\"5\" valign=\"top\">-</th>\n",
       "      <th>1</th>\n",
       "      <td>525</td>\n",
       "      <td>164</td>\n",
       "      <td>439</td>\n",
       "      <td>255</td>\n",
       "    </tr>\n",
       "    <tr>\n",
       "      <th>2</th>\n",
       "      <td>607</td>\n",
       "      <td>172</td>\n",
       "      <td>476</td>\n",
       "      <td>270</td>\n",
       "    </tr>\n",
       "    <tr>\n",
       "      <th>3</th>\n",
       "      <td>582</td>\n",
       "      <td>169</td>\n",
       "      <td>475</td>\n",
       "      <td>268</td>\n",
       "    </tr>\n",
       "    <tr>\n",
       "      <th>4</th>\n",
       "      <td>590</td>\n",
       "      <td>129</td>\n",
       "      <td>446</td>\n",
       "      <td>233</td>\n",
       "    </tr>\n",
       "    <tr>\n",
       "      <th>5</th>\n",
       "      <td>709</td>\n",
       "      <td>185</td>\n",
       "      <td>577</td>\n",
       "      <td>259</td>\n",
       "    </tr>\n",
       "    <tr>\n",
       "      <th>Agawam</th>\n",
       "      <th>-</th>\n",
       "      <th>1</th>\n",
       "      <td>850</td>\n",
       "      <td>665</td>\n",
       "      <td>631</td>\n",
       "      <td>827</td>\n",
       "    </tr>\n",
       "  </tbody>\n",
       "</table>\n",
       "</div>"
      ],
      "text/plain": [
       "                    Obama_12  Romney_12  Clinton_16  Trump_16\n",
       "City/Town Ward Pct                                           \n",
       "Abington  -    1         844        705         818       717\n",
       "               2         742        741         739       785\n",
       "               3         815        801         773       808\n",
       "               4         899        904         877       878\n",
       "               5         844        910         908       829\n",
       "Acton     -    1        1228        583        1459       438\n",
       "               2        1216        722        1550       480\n",
       "               3        1378        699        1580       435\n",
       "               4        1462        636        1675       414\n",
       "               5        1454        565        1580       387\n",
       "               6        1134        670        1354       401\n",
       "Acushnet  -    1        1034        574         783       786\n",
       "               2         959        803         756      1043\n",
       "               3        1053        819         862      1005\n",
       "Adams     -    1         525        164         439       255\n",
       "               2         607        172         476       270\n",
       "               3         582        169         475       268\n",
       "               4         590        129         446       233\n",
       "               5         709        185         577       259\n",
       "Agawam    -    1         850        665         631       827"
      ]
     },
     "execution_count": 7,
     "metadata": {},
     "output_type": "execute_result"
    }
   ],
   "source": [
    "p = p12.join(p16)\n",
    "p.head(20)"
   ]
  },
  {
   "cell_type": "markdown",
   "metadata": {
    "colab_type": "text",
    "id": "-aT9xmA1U5pH"
   },
   "source": [
    "## Mapping precincts to legislative districts\n",
    "\n",
    "In order to map the precincts to legislative districts we download results from all of the elections for that office for the year 2016 and mark each one with the district name. This requires some web page scraping using the BeautifulSoup HTML parsing library. "
   ]
  },
  {
   "cell_type": "code",
   "execution_count": 8,
   "metadata": {
    "colab": {
     "autoexec": {
      "startup": false,
      "wait_interval": 0
     },
     "base_uri": "https://localhost:8080/",
     "height": 669,
     "output_extras": [
      {
       "item_id": 1
      }
     ]
    },
    "colab_type": "code",
    "executionInfo": {
     "elapsed": 32015,
     "status": "ok",
     "timestamp": 1517932397193,
     "user": {
      "displayName": "Brent Benson",
      "photoUrl": "//lh3.googleusercontent.com/-Cify9JO-upA/AAAAAAAAAAI/AAAAAAAAEd0/qUc0caQSXvU/s50-c-k-no/photo.jpg",
      "userId": "111294412519576518910"
     },
     "user_tz": 300
    },
    "id": "2KiDzTcvL7F2",
    "outputId": "ca8a830b-b305-4931-d3f9-4a39dd475a9e"
   },
   "outputs": [],
   "source": [
    "import bs4\n",
    "import requests\n",
    "\n",
    "ELECTION_QUERY = \"http://electionstats.state.ma.us/elections/search/year_from:{year}/year_to:{year}/office_id:{office_id}/stage:{stage}\"\n",
    "STATE_REP_ID = 8\n",
    "STATE_SEN_ID = 9\n",
    "US_CONG_ID = 5\n",
    "\n",
    "def get_election_ids(year, office_id, stage):\n",
    "    \"\"\"Returns a list (ELECTION_ID, DISTRICT) for the given query parameters.\"\"\"\n",
    "    r = requests.get(ELECTION_QUERY.format(year=year, office_id=office_id, stage=stage))\n",
    "    bs = bs4.BeautifulSoup(r.text, \"html\")\n",
    "    elec_trs = bs.findAll(\"tr\", {\"class\": \"election_item general_party\"})\n",
    "    elec_ids = [district_and_id(elec_tr) for elec_tr in elec_trs]\n",
    "    return elec_ids\n",
    "  \n",
    "def district_and_id(elec_tr):\n",
    "    \"\"\"Parse the ELECTION_ID and DISTRICT from the HTML element.\"\"\"\n",
    "    election_id = elec_tr[\"id\"].split(\"-\")[2]\n",
    "    district = elec_tr.td.findNext(\"td\").findNext(\"td\").text\n",
    "    return (election_id, district)\n",
    "\n",
    "CSV_QUERY = \"http://electionstats.state.ma.us/elections/download/{election_id}/precincts_include:1/\"\n",
    "\n",
    "def get_office_precincts(year, office_id, stage):\n",
    "    \"\"\"Query for the matching elections,\n",
    "    return all of the precincts tagged with the district name.\n",
    "    \"\"\"\n",
    "    election_list = []\n",
    "    election_ids = get_election_ids(year, office_id, stage)\n",
    "    for election_id, district in election_ids:\n",
    "        p = read_pd43(CSV_QUERY.format(election_id=election_id), set_index=False)\n",
    "        p = p[[\"City/Town\", \"Ward\", \"Pct\"]]\n",
    "        p[\"District\"] = district\n",
    "        election_list.append(p)\n",
    "    all_precincts = pd.concat(election_list, ignore_index=True).drop_duplicates()\n",
    "    all_precincts = all_precincts.set_index([\"City/Town\", \"Ward\", \"Pct\"])\n",
    "    return all_precincts"
   ]
  },
  {
   "cell_type": "code",
   "execution_count": null,
   "metadata": {},
   "outputs": [],
   "source": [
    "sr_pcts = (get_office_precincts(2016, STATE_REP_ID, \"General\").\n",
    "           rename(columns={\"District\": \"State_Rep\"}))\n",
    "ss_pcts = (get_office_precincts(2016, STATE_SEN_ID, \"General\")\n",
    "           .rename(columns={\"District\": \"State_Sen\"}))\n",
    "ush_pcts = (get_office_precincts(2016, US_CONG_ID, \"General\")\n",
    "            .rename(columns={\"District\": \"US_House\"}))\n",
    "\n",
    "# Combine the presidential result data with all of the district tags\n",
    "pvi = p.join(ush_pcts).join(ss_pcts).join(sr_pcts).reset_index()\n",
    "pvi.head(20)"
   ]
  },
  {
   "cell_type": "markdown",
   "metadata": {
    "colab_type": "text",
    "id": "_uP1AFpcWPea"
   },
   "source": [
    "## Calculate PVI for each office/district\n",
    "\n",
    "For each office—State Representative, State Senate, and U.S. House—group by district, summing up the presidential votes and then calculate the numeric PVI and PVI string.\n",
    "\n",
    "Begin with State Representative."
   ]
  },
  {
   "cell_type": "code",
   "execution_count": null,
   "metadata": {
    "colab": {
     "autoexec": {
      "startup": false,
      "wait_interval": 0
     },
     "base_uri": "https://localhost:8080/",
     "height": 1969,
     "output_extras": [
      {
       "item_id": 1
      }
     ]
    },
    "colab_type": "code",
    "executionInfo": {
     "elapsed": 442,
     "status": "ok",
     "timestamp": 1517932397750,
     "user": {
      "displayName": "Brent Benson",
      "photoUrl": "//lh3.googleusercontent.com/-Cify9JO-upA/AAAAAAAAAAI/AAAAAAAAEd0/qUc0caQSXvU/s50-c-k-no/photo.jpg",
      "userId": "111294412519576518910"
     },
     "user_tz": 300
    },
    "id": "MSiT6xafDALN",
    "outputId": "ccbc2c12-f34c-4eb0-bfe1-da7527903a1c"
   },
   "outputs": [],
   "source": [
    "sr_pvi = pvi.groupby(\"State_Rep\").sum().reset_index()\n",
    "sr_pvi[\"PVI_N\"] = calc_pvi(sr_pvi)\n",
    "sr_pvi[\"PVI\"] = sr_pvi[\"PVI_N\"].map(pvi_string)\n",
    "sr_pvi.sort_values(\"PVI_N\", ascending=False)"
   ]
  },
  {
   "cell_type": "markdown",
   "metadata": {
    "colab_type": "text",
    "id": "NBlX9QYuYUCd"
   },
   "source": [
    "Next, State Senate."
   ]
  },
  {
   "cell_type": "code",
   "execution_count": null,
   "metadata": {
    "colab": {
     "autoexec": {
      "startup": false,
      "wait_interval": 0
     },
     "base_uri": "https://localhost:8080/",
     "height": 1289,
     "output_extras": [
      {
       "item_id": 1
      }
     ]
    },
    "colab_type": "code",
    "executionInfo": {
     "elapsed": 231,
     "status": "ok",
     "timestamp": 1517932398108,
     "user": {
      "displayName": "Brent Benson",
      "photoUrl": "//lh3.googleusercontent.com/-Cify9JO-upA/AAAAAAAAAAI/AAAAAAAAEd0/qUc0caQSXvU/s50-c-k-no/photo.jpg",
      "userId": "111294412519576518910"
     },
     "user_tz": 300
    },
    "id": "lGmjOlKkEgm-",
    "outputId": "011d4d33-6499-49ff-da8a-722c50f8541b"
   },
   "outputs": [],
   "source": [
    "ss_pvi = pvi.groupby(\"State_Sen\").sum().reset_index()\n",
    "ss_pvi[\"PVI_N\"] = calc_pvi(ss_pvi)\n",
    "ss_pvi[\"PVI\"] = ss_pvi[\"PVI_N\"].map(pvi_string)\n",
    "ss_pvi.sort_values(\"PVI_N\", ascending=False)"
   ]
  },
  {
   "cell_type": "markdown",
   "metadata": {
    "colab_type": "text",
    "id": "fuh7wyo0ZNLV"
   },
   "source": [
    "And finally, U.S. House."
   ]
  },
  {
   "cell_type": "code",
   "execution_count": null,
   "metadata": {
    "colab": {
     "autoexec": {
      "startup": false,
      "wait_interval": 0
     },
     "base_uri": "https://localhost:8080/",
     "height": 328,
     "output_extras": [
      {
       "item_id": 1
      }
     ]
    },
    "colab_type": "code",
    "executionInfo": {
     "elapsed": 232,
     "status": "ok",
     "timestamp": 1517932398457,
     "user": {
      "displayName": "Brent Benson",
      "photoUrl": "//lh3.googleusercontent.com/-Cify9JO-upA/AAAAAAAAAAI/AAAAAAAAEd0/qUc0caQSXvU/s50-c-k-no/photo.jpg",
      "userId": "111294412519576518910"
     },
     "user_tz": 300
    },
    "id": "DLuXWmHjFOuq",
    "outputId": "429efe7f-8d32-4141-f067-d232faafae16"
   },
   "outputs": [],
   "source": [
    "ush_pvi = pvi.groupby(\"US_House\").sum().reset_index()\n",
    "ush_pvi[\"PVI_N\"] = calc_pvi(ush_pvi)\n",
    "ush_pvi[\"PVI\"] = ush_pvi[\"PVI_N\"].map(pvi_string)\n",
    "ush_pvi.sort_values(\"PVI_N\", ascending=False)"
   ]
  }
 ],
 "metadata": {
  "colab": {
   "collapsed_sections": [],
   "default_view": {},
   "name": "Massachusetts_PVI.ipynb",
   "provenance": [],
   "version": "0.3.2",
   "views": {}
  },
  "kernelspec": {
   "display_name": "Python 3",
   "language": "python",
   "name": "python3"
  },
  "language_info": {
   "codemirror_mode": {
    "name": "ipython",
    "version": 3
   },
   "file_extension": ".py",
   "mimetype": "text/x-python",
   "name": "python",
   "nbconvert_exporter": "python",
   "pygments_lexer": "ipython3",
   "version": "3.7.5"
  }
 },
 "nbformat": 4,
 "nbformat_minor": 1
}
